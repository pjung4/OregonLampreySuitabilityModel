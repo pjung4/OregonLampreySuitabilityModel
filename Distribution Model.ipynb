{
 "cells": [
  {
   "cell_type": "code",
   "execution_count": 1,
   "id": "22d97a46",
   "metadata": {},
   "outputs": [],
   "source": [
    "import pandas as pd\n",
    "import geopandas as gpd\n",
    "import matplotlib.pyplot as plt\n",
    "import rasterio\n",
    "import numpy as np"
   ]
  },
  {
   "cell_type": "code",
   "execution_count": 2,
   "id": "2e4d7869",
   "metadata": {},
   "outputs": [],
   "source": [
    "elevation = rasterio.open('C:/Users/parke/DefaultFiles/Documents/ArcGIS/Projects/lamprey2/Elevation.tif')\n",
    "slope = rasterio.open('C:/Users/parke/DefaultFiles/Documents/ArcGIS/Projects/lamprey2/Slope.tif')\n",
    "aspect = rasterio.open('C:/Users/parke/DefaultFiles/Documents/ArcGIS/Projects/lamprey2/Aspect.tif')\n",
    "hillshade = rasterio.open('C:/Users/parke/DefaultFiles/Documents/ArcGIS/Projects/lamprey2/Hillshade.tif')\n",
    "streamdensity = rasterio.open('C:/Users/parke/DefaultFiles/Documents/ArcGIS/Projects/lamprey2/HDStreamDensity.tif')\n",
    "canopycover = rasterio.open('C:/Users/parke/GISLampreyAnalysis/Data/CanopyCover_Projecte_1.tif')\n",
    "foresttype = rasterio.open('C:/Users/parke/GISLampreyAnalysis/Data/ForestTypeReclass_Project.tif')\n",
    "watershed_boundary = gpd.read_file('C:/Users/parke/GISLampreyAnalysis/Data/WatershedBoundary.shp')\n",
    "sample_sites = gpd.read_file('C:/Users/parke/GISLampreyAnalysis/Data/SampleSites_Streams.shp')"
   ]
  },
  {
   "cell_type": "code",
   "execution_count": 57,
   "id": "afd12e91",
   "metadata": {},
   "outputs": [
    {
     "data": {
      "text/plain": [
       "(49958, 26543)"
      ]
     },
     "execution_count": 57,
     "metadata": {},
     "output_type": "execute_result"
    }
   ],
   "source": [
    "elevation.shape"
   ]
  },
  {
   "cell_type": "code",
   "execution_count": 3,
   "id": "774bda81",
   "metadata": {},
   "outputs": [
    {
     "name": "stderr",
     "output_type": "stream",
     "text": [
      "C:\\Users\\parke\\.lsdm\\lib\\site-packages\\IPython\\core\\interactiveshell.py:3400: FutureWarning: The `op` parameter is deprecated and will be removed in a future release. Please use the `predicate` parameter instead.\n",
      "  if await self.run_code(code, result, async_=asy):\n"
     ]
    }
   ],
   "source": [
    "samplearea = gpd.sjoin(sample_sites, watershed_boundary, how=\"inner\", op=\"within\")"
   ]
  },
  {
   "cell_type": "code",
   "execution_count": 4,
   "id": "496f7436",
   "metadata": {},
   "outputs": [],
   "source": [
    "import os\n",
    "import glob\n",
    "\n",
    "path = 'C:/Users/parke/GISLampreyAnalysis/Data'\n",
    "\n",
    "coord_list = [(x,y) for x,y in zip(samplearea['geometry'].x , samplearea['geometry'].y)]\n",
    "for filename in glob.glob(os.path.join(path, 'Elevation.tif')):\n",
    "    with rasterio.open(os.path.join(os.getcwd(), filename)) as f: \n",
    "        samplearea[str(filename.split('\\\\')[-1][:-4])] = [sample[0] for sample in f.sample(coord_list)]"
   ]
  },
  {
   "cell_type": "code",
   "execution_count": 5,
   "id": "e2c7955f",
   "metadata": {},
   "outputs": [],
   "source": [
    "def addraster(file):\n",
    "    for filename in glob.glob(os.path.join(path, file)):\n",
    "        with rasterio.open(os.path.join(os.getcwd(), filename)) as f: \n",
    "            samplearea[str(filename.split('\\\\')[-1][:-4])] = [sample[0] for sample in f.sample(coord_list)]"
   ]
  },
  {
   "cell_type": "code",
   "execution_count": 6,
   "id": "45b09289",
   "metadata": {},
   "outputs": [],
   "source": [
    "addraster('Aspect.tif')\n",
    "addraster('Slope.tif')\n",
    "addraster('Hillshade.tif')\n",
    "addraster('HDStreamDensity.tif')\n",
    "addraster('CanopyCover_Projecte_1.tif')\n",
    "addraster('ForestTypeReclass_Project.tif')"
   ]
  },
  {
   "cell_type": "code",
   "execution_count": 7,
   "id": "7a26ff3d",
   "metadata": {},
   "outputs": [],
   "source": [
    "pd.set_option('display.max_columns',None)"
   ]
  },
  {
   "cell_type": "code",
   "execution_count": 8,
   "id": "c7bf8873",
   "metadata": {},
   "outputs": [],
   "source": [
    "#samplearea"
   ]
  },
  {
   "cell_type": "code",
   "execution_count": 9,
   "id": "10a82e20",
   "metadata": {},
   "outputs": [],
   "source": [
    "samplearea = samplearea[samplearea['Lampetra_p']!='ND']\n",
    "samplearea = samplearea[samplearea['Pacific_La']!='ND']"
   ]
  },
  {
   "cell_type": "code",
   "execution_count": 10,
   "id": "3dd2cd6e",
   "metadata": {},
   "outputs": [],
   "source": [
    "samplearea.Lampetra_p.replace(('Y', 'N'), (1, 0), inplace=True)\n",
    "samplearea.Pacific_La.replace(('Y', 'N'), (1, 0), inplace=True)"
   ]
  },
  {
   "cell_type": "code",
   "execution_count": 11,
   "id": "70649a5a",
   "metadata": {
    "scrolled": false
   },
   "outputs": [
    {
     "data": {
      "text/html": [
       "<div>\n",
       "<style scoped>\n",
       "    .dataframe tbody tr th:only-of-type {\n",
       "        vertical-align: middle;\n",
       "    }\n",
       "\n",
       "    .dataframe tbody tr th {\n",
       "        vertical-align: top;\n",
       "    }\n",
       "\n",
       "    .dataframe thead th {\n",
       "        text-align: right;\n",
       "    }\n",
       "</style>\n",
       "<table border=\"1\" class=\"dataframe\">\n",
       "  <thead>\n",
       "    <tr style=\"text-align: right;\">\n",
       "      <th></th>\n",
       "      <th>Lampetra_p</th>\n",
       "      <th>Pacific_La</th>\n",
       "      <th>Elevation</th>\n",
       "      <th>Slope</th>\n",
       "      <th>Aspect</th>\n",
       "      <th>Hillshade</th>\n",
       "      <th>HDStreamDensity</th>\n",
       "      <th>ForestTypeReclass_Project</th>\n",
       "      <th>CanopyCover_Projecte_1</th>\n",
       "    </tr>\n",
       "  </thead>\n",
       "  <tbody>\n",
       "    <tr>\n",
       "      <th>Lampetra_p</th>\n",
       "      <td>1.000000</td>\n",
       "      <td>0.190195</td>\n",
       "      <td>-0.384849</td>\n",
       "      <td>-0.128970</td>\n",
       "      <td>-0.090614</td>\n",
       "      <td>0.057068</td>\n",
       "      <td>0.249227</td>\n",
       "      <td>-0.064487</td>\n",
       "      <td>-0.189287</td>\n",
       "    </tr>\n",
       "    <tr>\n",
       "      <th>Pacific_La</th>\n",
       "      <td>0.190195</td>\n",
       "      <td>1.000000</td>\n",
       "      <td>-0.160360</td>\n",
       "      <td>-0.001326</td>\n",
       "      <td>0.049905</td>\n",
       "      <td>0.004063</td>\n",
       "      <td>-0.109539</td>\n",
       "      <td>0.126136</td>\n",
       "      <td>-0.159154</td>\n",
       "    </tr>\n",
       "    <tr>\n",
       "      <th>Elevation</th>\n",
       "      <td>-0.384849</td>\n",
       "      <td>-0.160360</td>\n",
       "      <td>1.000000</td>\n",
       "      <td>0.251173</td>\n",
       "      <td>0.008497</td>\n",
       "      <td>-0.190609</td>\n",
       "      <td>-0.347061</td>\n",
       "      <td>0.074287</td>\n",
       "      <td>0.218076</td>\n",
       "    </tr>\n",
       "    <tr>\n",
       "      <th>Slope</th>\n",
       "      <td>-0.128970</td>\n",
       "      <td>-0.001326</td>\n",
       "      <td>0.251173</td>\n",
       "      <td>1.000000</td>\n",
       "      <td>0.041573</td>\n",
       "      <td>-0.918758</td>\n",
       "      <td>-0.194041</td>\n",
       "      <td>0.157485</td>\n",
       "      <td>0.026369</td>\n",
       "    </tr>\n",
       "    <tr>\n",
       "      <th>Aspect</th>\n",
       "      <td>-0.090614</td>\n",
       "      <td>0.049905</td>\n",
       "      <td>0.008497</td>\n",
       "      <td>0.041573</td>\n",
       "      <td>1.000000</td>\n",
       "      <td>0.154090</td>\n",
       "      <td>-0.066597</td>\n",
       "      <td>-0.057907</td>\n",
       "      <td>-0.024536</td>\n",
       "    </tr>\n",
       "    <tr>\n",
       "      <th>Hillshade</th>\n",
       "      <td>0.057068</td>\n",
       "      <td>0.004063</td>\n",
       "      <td>-0.190609</td>\n",
       "      <td>-0.918758</td>\n",
       "      <td>0.154090</td>\n",
       "      <td>1.000000</td>\n",
       "      <td>0.103582</td>\n",
       "      <td>-0.128257</td>\n",
       "      <td>0.036830</td>\n",
       "    </tr>\n",
       "    <tr>\n",
       "      <th>HDStreamDensity</th>\n",
       "      <td>0.249227</td>\n",
       "      <td>-0.109539</td>\n",
       "      <td>-0.347061</td>\n",
       "      <td>-0.194041</td>\n",
       "      <td>-0.066597</td>\n",
       "      <td>0.103582</td>\n",
       "      <td>1.000000</td>\n",
       "      <td>-0.242073</td>\n",
       "      <td>-0.184299</td>\n",
       "    </tr>\n",
       "    <tr>\n",
       "      <th>ForestTypeReclass_Project</th>\n",
       "      <td>-0.064487</td>\n",
       "      <td>0.126136</td>\n",
       "      <td>0.074287</td>\n",
       "      <td>0.157485</td>\n",
       "      <td>-0.057907</td>\n",
       "      <td>-0.128257</td>\n",
       "      <td>-0.242073</td>\n",
       "      <td>1.000000</td>\n",
       "      <td>0.211902</td>\n",
       "    </tr>\n",
       "    <tr>\n",
       "      <th>CanopyCover_Projecte_1</th>\n",
       "      <td>-0.189287</td>\n",
       "      <td>-0.159154</td>\n",
       "      <td>0.218076</td>\n",
       "      <td>0.026369</td>\n",
       "      <td>-0.024536</td>\n",
       "      <td>0.036830</td>\n",
       "      <td>-0.184299</td>\n",
       "      <td>0.211902</td>\n",
       "      <td>1.000000</td>\n",
       "    </tr>\n",
       "  </tbody>\n",
       "</table>\n",
       "</div>"
      ],
      "text/plain": [
       "                           Lampetra_p  Pacific_La  Elevation     Slope  \\\n",
       "Lampetra_p                   1.000000    0.190195  -0.384849 -0.128970   \n",
       "Pacific_La                   0.190195    1.000000  -0.160360 -0.001326   \n",
       "Elevation                   -0.384849   -0.160360   1.000000  0.251173   \n",
       "Slope                       -0.128970   -0.001326   0.251173  1.000000   \n",
       "Aspect                      -0.090614    0.049905   0.008497  0.041573   \n",
       "Hillshade                    0.057068    0.004063  -0.190609 -0.918758   \n",
       "HDStreamDensity              0.249227   -0.109539  -0.347061 -0.194041   \n",
       "ForestTypeReclass_Project   -0.064487    0.126136   0.074287  0.157485   \n",
       "CanopyCover_Projecte_1      -0.189287   -0.159154   0.218076  0.026369   \n",
       "\n",
       "                             Aspect  Hillshade  HDStreamDensity  \\\n",
       "Lampetra_p                -0.090614   0.057068         0.249227   \n",
       "Pacific_La                 0.049905   0.004063        -0.109539   \n",
       "Elevation                  0.008497  -0.190609        -0.347061   \n",
       "Slope                      0.041573  -0.918758        -0.194041   \n",
       "Aspect                     1.000000   0.154090        -0.066597   \n",
       "Hillshade                  0.154090   1.000000         0.103582   \n",
       "HDStreamDensity           -0.066597   0.103582         1.000000   \n",
       "ForestTypeReclass_Project -0.057907  -0.128257        -0.242073   \n",
       "CanopyCover_Projecte_1    -0.024536   0.036830        -0.184299   \n",
       "\n",
       "                           ForestTypeReclass_Project  CanopyCover_Projecte_1  \n",
       "Lampetra_p                                 -0.064487               -0.189287  \n",
       "Pacific_La                                  0.126136               -0.159154  \n",
       "Elevation                                   0.074287                0.218076  \n",
       "Slope                                       0.157485                0.026369  \n",
       "Aspect                                     -0.057907               -0.024536  \n",
       "Hillshade                                  -0.128257                0.036830  \n",
       "HDStreamDensity                            -0.242073               -0.184299  \n",
       "ForestTypeReclass_Project                   1.000000                0.211902  \n",
       "CanopyCover_Projecte_1                      0.211902                1.000000  "
      ]
     },
     "execution_count": 11,
     "metadata": {},
     "output_type": "execute_result"
    }
   ],
   "source": [
    "features = ['Elevation','Slope','Aspect','Hillshade','HDStreamDensity','ForestTypeReclass_Project','CanopyCover_Projecte_1']\n",
    "corr_matrix = samplearea[['Lampetra_p','Pacific_La']+features].corr()\n",
    "corr_matrix"
   ]
  },
  {
   "cell_type": "code",
   "execution_count": 12,
   "id": "65ebef3b",
   "metadata": {},
   "outputs": [
    {
     "data": {
      "image/png": "[encoded data removed]",
      "text/plain": [
       "<Figure size 1200x400 with 1 Axes>"
      ]
     },
     "metadata": {},
     "output_type": "display_data"
    }
   ],
   "source": [
    "samplearea.groupby('Lampetra_p')['Elevation'].plot.hist(legend=True, alpha=0.5, figsize=(12,4));\n",
    "plt.xlabel('Elevation (ft)', size= 'large');"
   ]
  },
  {
   "cell_type": "code",
   "execution_count": 13,
   "id": "e9da6745",
   "metadata": {},
   "outputs": [
    {
     "data": {
      "image/png": "[encoded data removed]",
      "text/plain": [
       "<Figure size 640x480 with 1 Axes>"
      ]
     },
     "metadata": {},
     "output_type": "display_data"
    }
   ],
   "source": [
    "samplearea.groupby('Pacific_La')['Elevation'].plot.hist(legend=True, alpha=0.5);\n",
    "plt.xlabel('Elevation (ft)', size= 'large');"
   ]
  },
  {
   "cell_type": "code",
   "execution_count": 14,
   "id": "81a1c1d8",
   "metadata": {},
   "outputs": [
    {
     "data": {
      "text/html": [
       "<div>\n",
       "<style scoped>\n",
       "    .dataframe tbody tr th:only-of-type {\n",
       "        vertical-align: middle;\n",
       "    }\n",
       "\n",
       "    .dataframe tbody tr th {\n",
       "        vertical-align: top;\n",
       "    }\n",
       "\n",
       "    .dataframe thead th {\n",
       "        text-align: right;\n",
       "    }\n",
       "</style>\n",
       "<table border=\"1\" class=\"dataframe\">\n",
       "  <thead>\n",
       "    <tr style=\"text-align: right;\">\n",
       "      <th></th>\n",
       "      <th>Elevation</th>\n",
       "      <th>Slope</th>\n",
       "      <th>Aspect</th>\n",
       "      <th>Hillshade</th>\n",
       "      <th>HDStreamDensity</th>\n",
       "      <th>ForestTypeReclass_Project</th>\n",
       "      <th>CanopyCover_Projecte_1</th>\n",
       "    </tr>\n",
       "  </thead>\n",
       "  <tbody>\n",
       "    <tr>\n",
       "      <th>count</th>\n",
       "      <td>47.000000</td>\n",
       "      <td>47.000000</td>\n",
       "      <td>47.000000</td>\n",
       "      <td>47.000000</td>\n",
       "      <td>47.000000</td>\n",
       "      <td>47.000000</td>\n",
       "      <td>47.000000</td>\n",
       "    </tr>\n",
       "    <tr>\n",
       "      <th>mean</th>\n",
       "      <td>358.246796</td>\n",
       "      <td>7.666543</td>\n",
       "      <td>162.489362</td>\n",
       "      <td>212.276596</td>\n",
       "      <td>0.545483</td>\n",
       "      <td>1.893617</td>\n",
       "      <td>4379.617021</td>\n",
       "    </tr>\n",
       "    <tr>\n",
       "      <th>std</th>\n",
       "      <td>575.611206</td>\n",
       "      <td>10.672961</td>\n",
       "      <td>84.137794</td>\n",
       "      <td>30.676930</td>\n",
       "      <td>0.670790</td>\n",
       "      <td>0.758547</td>\n",
       "      <td>3076.557630</td>\n",
       "    </tr>\n",
       "    <tr>\n",
       "      <th>min</th>\n",
       "      <td>3.737134</td>\n",
       "      <td>0.173159</td>\n",
       "      <td>11.000000</td>\n",
       "      <td>91.000000</td>\n",
       "      <td>0.002722</td>\n",
       "      <td>1.000000</td>\n",
       "      <td>-1.000000</td>\n",
       "    </tr>\n",
       "    <tr>\n",
       "      <th>25%</th>\n",
       "      <td>16.702435</td>\n",
       "      <td>1.568508</td>\n",
       "      <td>92.500000</td>\n",
       "      <td>211.000000</td>\n",
       "      <td>0.087841</td>\n",
       "      <td>1.000000</td>\n",
       "      <td>788.500000</td>\n",
       "    </tr>\n",
       "    <tr>\n",
       "      <th>50%</th>\n",
       "      <td>54.453175</td>\n",
       "      <td>4.047372</td>\n",
       "      <td>181.000000</td>\n",
       "      <td>226.000000</td>\n",
       "      <td>0.384590</td>\n",
       "      <td>2.000000</td>\n",
       "      <td>4799.000000</td>\n",
       "    </tr>\n",
       "    <tr>\n",
       "      <th>75%</th>\n",
       "      <td>566.891846</td>\n",
       "      <td>8.196589</td>\n",
       "      <td>199.000000</td>\n",
       "      <td>228.500000</td>\n",
       "      <td>0.751951</td>\n",
       "      <td>2.000000</td>\n",
       "      <td>7218.500000</td>\n",
       "    </tr>\n",
       "    <tr>\n",
       "      <th>max</th>\n",
       "      <td>2248.142334</td>\n",
       "      <td>53.770729</td>\n",
       "      <td>358.000000</td>\n",
       "      <td>237.000000</td>\n",
       "      <td>3.846996</td>\n",
       "      <td>3.000000</td>\n",
       "      <td>8919.000000</td>\n",
       "    </tr>\n",
       "  </tbody>\n",
       "</table>\n",
       "</div>"
      ],
      "text/plain": [
       "         Elevation      Slope      Aspect   Hillshade  HDStreamDensity  \\\n",
       "count    47.000000  47.000000   47.000000   47.000000        47.000000   \n",
       "mean    358.246796   7.666543  162.489362  212.276596         0.545483   \n",
       "std     575.611206  10.672961   84.137794   30.676930         0.670790   \n",
       "min       3.737134   0.173159   11.000000   91.000000         0.002722   \n",
       "25%      16.702435   1.568508   92.500000  211.000000         0.087841   \n",
       "50%      54.453175   4.047372  181.000000  226.000000         0.384590   \n",
       "75%     566.891846   8.196589  199.000000  228.500000         0.751951   \n",
       "max    2248.142334  53.770729  358.000000  237.000000         3.846996   \n",
       "\n",
       "       ForestTypeReclass_Project  CanopyCover_Projecte_1  \n",
       "count                  47.000000               47.000000  \n",
       "mean                    1.893617             4379.617021  \n",
       "std                     0.758547             3076.557630  \n",
       "min                     1.000000               -1.000000  \n",
       "25%                     1.000000              788.500000  \n",
       "50%                     2.000000             4799.000000  \n",
       "75%                     2.000000             7218.500000  \n",
       "max                     3.000000             8919.000000  "
      ]
     },
     "execution_count": 14,
     "metadata": {},
     "output_type": "execute_result"
    }
   ],
   "source": [
    "samplearea[samplearea['Lampetra_p'] == 0][features].describe()"
   ]
  },
  {
   "cell_type": "code",
   "execution_count": 15,
   "id": "56c494fd",
   "metadata": {},
   "outputs": [
    {
     "data": {
      "text/html": [
       "<div>\n",
       "<style scoped>\n",
       "    .dataframe tbody tr th:only-of-type {\n",
       "        vertical-align: middle;\n",
       "    }\n",
       "\n",
       "    .dataframe tbody tr th {\n",
       "        vertical-align: top;\n",
       "    }\n",
       "\n",
       "    .dataframe thead th {\n",
       "        text-align: right;\n",
       "    }\n",
       "</style>\n",
       "<table border=\"1\" class=\"dataframe\">\n",
       "  <thead>\n",
       "    <tr style=\"text-align: right;\">\n",
       "      <th></th>\n",
       "      <th>Elevation</th>\n",
       "      <th>Slope</th>\n",
       "      <th>Aspect</th>\n",
       "      <th>Hillshade</th>\n",
       "      <th>HDStreamDensity</th>\n",
       "      <th>ForestTypeReclass_Project</th>\n",
       "      <th>CanopyCover_Projecte_1</th>\n",
       "    </tr>\n",
       "  </thead>\n",
       "  <tbody>\n",
       "    <tr>\n",
       "      <th>count</th>\n",
       "      <td>79.000000</td>\n",
       "      <td>79.000000</td>\n",
       "      <td>79.000000</td>\n",
       "      <td>79.000000</td>\n",
       "      <td>79.000000</td>\n",
       "      <td>79.000000</td>\n",
       "      <td>79.000000</td>\n",
       "    </tr>\n",
       "    <tr>\n",
       "      <th>mean</th>\n",
       "      <td>133.962692</td>\n",
       "      <td>6.407537</td>\n",
       "      <td>155.924051</td>\n",
       "      <td>214.113924</td>\n",
       "      <td>0.666178</td>\n",
       "      <td>1.898734</td>\n",
       "      <td>3350.582278</td>\n",
       "    </tr>\n",
       "    <tr>\n",
       "      <th>std</th>\n",
       "      <td>253.243134</td>\n",
       "      <td>7.592024</td>\n",
       "      <td>92.881200</td>\n",
       "      <td>26.280532</td>\n",
       "      <td>0.564852</td>\n",
       "      <td>0.841167</td>\n",
       "      <td>3101.645323</td>\n",
       "    </tr>\n",
       "    <tr>\n",
       "      <th>min</th>\n",
       "      <td>1.184812</td>\n",
       "      <td>0.147298</td>\n",
       "      <td>11.000000</td>\n",
       "      <td>116.000000</td>\n",
       "      <td>0.002722</td>\n",
       "      <td>1.000000</td>\n",
       "      <td>-1.000000</td>\n",
       "    </tr>\n",
       "    <tr>\n",
       "      <th>25%</th>\n",
       "      <td>19.110085</td>\n",
       "      <td>1.132998</td>\n",
       "      <td>81.000000</td>\n",
       "      <td>212.500000</td>\n",
       "      <td>0.369161</td>\n",
       "      <td>1.000000</td>\n",
       "      <td>-1.000000</td>\n",
       "    </tr>\n",
       "    <tr>\n",
       "      <th>50%</th>\n",
       "      <td>37.570122</td>\n",
       "      <td>4.178055</td>\n",
       "      <td>148.000000</td>\n",
       "      <td>225.000000</td>\n",
       "      <td>0.568303</td>\n",
       "      <td>2.000000</td>\n",
       "      <td>3388.000000</td>\n",
       "    </tr>\n",
       "    <tr>\n",
       "      <th>75%</th>\n",
       "      <td>118.560074</td>\n",
       "      <td>7.404320</td>\n",
       "      <td>202.500000</td>\n",
       "      <td>229.000000</td>\n",
       "      <td>0.834841</td>\n",
       "      <td>3.000000</td>\n",
       "      <td>5886.000000</td>\n",
       "    </tr>\n",
       "    <tr>\n",
       "      <th>max</th>\n",
       "      <td>1235.279785</td>\n",
       "      <td>32.649826</td>\n",
       "      <td>348.000000</td>\n",
       "      <td>237.000000</td>\n",
       "      <td>3.846996</td>\n",
       "      <td>3.000000</td>\n",
       "      <td>8919.000000</td>\n",
       "    </tr>\n",
       "  </tbody>\n",
       "</table>\n",
       "</div>"
      ],
      "text/plain": [
       "         Elevation      Slope      Aspect   Hillshade  HDStreamDensity  \\\n",
       "count    79.000000  79.000000   79.000000   79.000000        79.000000   \n",
       "mean    133.962692   6.407537  155.924051  214.113924         0.666178   \n",
       "std     253.243134   7.592024   92.881200   26.280532         0.564852   \n",
       "min       1.184812   0.147298   11.000000  116.000000         0.002722   \n",
       "25%      19.110085   1.132998   81.000000  212.500000         0.369161   \n",
       "50%      37.570122   4.178055  148.000000  225.000000         0.568303   \n",
       "75%     118.560074   7.404320  202.500000  229.000000         0.834841   \n",
       "max    1235.279785  32.649826  348.000000  237.000000         3.846996   \n",
       "\n",
       "       ForestTypeReclass_Project  CanopyCover_Projecte_1  \n",
       "count                  79.000000               79.000000  \n",
       "mean                    1.898734             3350.582278  \n",
       "std                     0.841167             3101.645323  \n",
       "min                     1.000000               -1.000000  \n",
       "25%                     1.000000               -1.000000  \n",
       "50%                     2.000000             3388.000000  \n",
       "75%                     3.000000             5886.000000  \n",
       "max                     3.000000             8919.000000  "
      ]
     },
     "execution_count": 15,
     "metadata": {},
     "output_type": "execute_result"
    }
   ],
   "source": [
    "samplearea[samplearea['Pacific_La'] == 1][features].describe()"
   ]
  },
  {
   "cell_type": "code",
   "execution_count": 16,
   "id": "a08b8a59",
   "metadata": {},
   "outputs": [],
   "source": [
    "import sklearn\n",
    "from sklearn.preprocessing import StandardScaler\n",
    " \n",
    "X = samplearea[features]\n",
    "y = samplearea['Lampetra_p']"
   ]
  },
  {
   "cell_type": "code",
   "execution_count": 17,
   "id": "f0351b0f",
   "metadata": {},
   "outputs": [],
   "source": [
    "scaler = StandardScaler()  \n",
    "X_scaled = X #scaler.fit_transform(X)\n",
    "samplearea_scaled = pd.DataFrame(X_scaled, columns=features)"
   ]
  },
  {
   "cell_type": "code",
   "execution_count": 18,
   "id": "e4f94eff",
   "metadata": {},
   "outputs": [],
   "source": [
    "from sklearn.model_selection import train_test_split\n",
    "\n",
    "X_train, X_test, y_train, y_test = train_test_split(samplearea_scaled, y, test_size=0.2, random_state=42)"
   ]
  },
  {
   "cell_type": "code",
   "execution_count": 19,
   "id": "0a2c00c7",
   "metadata": {},
   "outputs": [
    {
     "name": "stderr",
     "output_type": "stream",
     "text": [
      "C:\\Users\\parke\\.lsdm\\lib\\site-packages\\sklearn\\linear_model\\_logistic.py:458: ConvergenceWarning: lbfgs failed to converge (status=1):\n",
      "STOP: TOTAL NO. of ITERATIONS REACHED LIMIT.\n",
      "\n",
      "Increase the number of iterations (max_iter) or scale the data as shown in:\n",
      "    https://scikit-learn.org/stable/modules/preprocessing.html\n",
      "Please also refer to the documentation for alternative solver options:\n",
      "    https://scikit-learn.org/stable/modules/linear_model.html#logistic-regression\n",
      "  n_iter_i = _check_optimize_result(\n"
     ]
    },
    {
     "data": {
      "text/html": [
       "<style>#sk-container-id-1 {color: black;background-color: white;}#sk-container-id-1 pre{padding: 0;}#sk-container-id-1 div.sk-toggleable {background-color: white;}#sk-container-id-1 label.sk-toggleable__label {cursor: pointer;display: block;width: 100%;margin-bottom: 0;padding: 0.3em;box-sizing: border-box;text-align: center;}#sk-container-id-1 label.sk-toggleable__label-arrow:before {content: \"▸\";float: left;margin-right: 0.25em;color: #696969;}#sk-container-id-1 label.sk-toggleable__label-arrow:hover:before {color: black;}#sk-container-id-1 div.sk-estimator:hover label.sk-toggleable__label-arrow:before {color: black;}#sk-container-id-1 div.sk-toggleable__content {max-height: 0;max-width: 0;overflow: hidden;text-align: left;background-color: #f0f8ff;}#sk-container-id-1 div.sk-toggleable__content pre {margin: 0.2em;color: black;border-radius: 0.25em;background-color: #f0f8ff;}#sk-container-id-1 input.sk-toggleable__control:checked~div.sk-toggleable__content {max-height: 200px;max-width: 100%;overflow: auto;}#sk-container-id-1 input.sk-toggleable__control:checked~label.sk-toggleable__label-arrow:before {content: \"▾\";}#sk-container-id-1 div.sk-estimator input.sk-toggleable__control:checked~label.sk-toggleable__label {background-color: #d4ebff;}#sk-container-id-1 div.sk-label input.sk-toggleable__control:checked~label.sk-toggleable__label {background-color: #d4ebff;}#sk-container-id-1 input.sk-hidden--visually {border: 0;clip: rect(1px 1px 1px 1px);clip: rect(1px, 1px, 1px, 1px);height: 1px;margin: -1px;overflow: hidden;padding: 0;position: absolute;width: 1px;}#sk-container-id-1 div.sk-estimator {font-family: monospace;background-color: #f0f8ff;border: 1px dotted black;border-radius: 0.25em;box-sizing: border-box;margin-bottom: 0.5em;}#sk-container-id-1 div.sk-estimator:hover {background-color: #d4ebff;}#sk-container-id-1 div.sk-parallel-item::after {content: \"\";width: 100%;border-bottom: 1px solid gray;flex-grow: 1;}#sk-container-id-1 div.sk-label:hover label.sk-toggleable__label {background-color: #d4ebff;}#sk-container-id-1 div.sk-serial::before {content: \"\";position: absolute;border-left: 1px solid gray;box-sizing: border-box;top: 0;bottom: 0;left: 50%;z-index: 0;}#sk-container-id-1 div.sk-serial {display: flex;flex-direction: column;align-items: center;background-color: white;padding-right: 0.2em;padding-left: 0.2em;position: relative;}#sk-container-id-1 div.sk-item {position: relative;z-index: 1;}#sk-container-id-1 div.sk-parallel {display: flex;align-items: stretch;justify-content: center;background-color: white;position: relative;}#sk-container-id-1 div.sk-item::before, #sk-container-id-1 div.sk-parallel-item::before {content: \"\";position: absolute;border-left: 1px solid gray;box-sizing: border-box;top: 0;bottom: 0;left: 50%;z-index: -1;}#sk-container-id-1 div.sk-parallel-item {display: flex;flex-direction: column;z-index: 1;position: relative;background-color: white;}#sk-container-id-1 div.sk-parallel-item:first-child::after {align-self: flex-end;width: 50%;}#sk-container-id-1 div.sk-parallel-item:last-child::after {align-self: flex-start;width: 50%;}#sk-container-id-1 div.sk-parallel-item:only-child::after {width: 0;}#sk-container-id-1 div.sk-dashed-wrapped {border: 1px dashed gray;margin: 0 0.4em 0.5em 0.4em;box-sizing: border-box;padding-bottom: 0.4em;background-color: white;}#sk-container-id-1 div.sk-label label {font-family: monospace;font-weight: bold;display: inline-block;line-height: 1.2em;}#sk-container-id-1 div.sk-label-container {text-align: center;}#sk-container-id-1 div.sk-container {/* jupyter's `normalize.less` sets `[hidden] { display: none; }` but bootstrap.min.css set `[hidden] { display: none !important; }` so we also need the `!important` here to be able to override the default hidden behavior on the sphinx rendered scikit-learn.org. See: https://github.com/scikit-learn/scikit-learn/issues/21755 */display: inline-block !important;position: relative;}#sk-container-id-1 div.sk-text-repr-fallback {display: none;}</style><div id=\"sk-container-id-1\" class=\"sk-top-container\"><div class=\"sk-text-repr-fallback\"><pre>LogisticRegression()</pre><b>In a Jupyter environment, please rerun this cell to show the HTML representation or trust the notebook. <br />On GitHub, the HTML representation is unable to render, please try loading this page with nbviewer.org.</b></div><div class=\"sk-container\" hidden><div class=\"sk-item\"><div class=\"sk-estimator sk-toggleable\"><input class=\"sk-toggleable__control sk-hidden--visually\" id=\"sk-estimator-id-1\" type=\"checkbox\" checked><label for=\"sk-estimator-id-1\" class=\"sk-toggleable__label sk-toggleable__label-arrow\">LogisticRegression</label><div class=\"sk-toggleable__content\"><pre>LogisticRegression()</pre></div></div></div></div></div>"
      ],
      "text/plain": [
       "LogisticRegression()"
      ]
     },
     "execution_count": 19,
     "metadata": {},
     "output_type": "execute_result"
    }
   ],
   "source": [
    "from sklearn.linear_model import LogisticRegression\n",
    "\n",
    "log_reg = LogisticRegression()\n",
    "\n",
    "log_reg.fit(X_train, y_train)"
   ]
  },
  {
   "cell_type": "code",
   "execution_count": 20,
   "id": "dfae5ecf",
   "metadata": {},
   "outputs": [
    {
     "name": "stdout",
     "output_type": "stream",
     "text": [
      "0.8260869565217391\n"
     ]
    }
   ],
   "source": [
    "from sklearn import metrics\n",
    "\n",
    "logpred = log_reg.predict(X_test)\n",
    "\n",
    "score = log_reg.score(X_test, y_test)\n",
    "print(score)"
   ]
  },
  {
   "cell_type": "code",
   "execution_count": 21,
   "id": "75f77dfc",
   "metadata": {},
   "outputs": [
    {
     "name": "stdout",
     "output_type": "stream",
     "text": [
      "[[ 6  4]\n",
      " [ 0 13]]\n"
     ]
    }
   ],
   "source": [
    "logcm = metrics.confusion_matrix(y_test, logpred)\n",
    "print(logcm)"
   ]
  },
  {
   "cell_type": "code",
   "execution_count": 22,
   "id": "126c26ab",
   "metadata": {},
   "outputs": [
    {
     "name": "stdout",
     "output_type": "stream",
     "text": [
      "              precision    recall  f1-score   support\n",
      "\n",
      "           0       1.00      0.60      0.75        10\n",
      "           1       0.76      1.00      0.87        13\n",
      "\n",
      "    accuracy                           0.83        23\n",
      "   macro avg       0.88      0.80      0.81        23\n",
      "weighted avg       0.87      0.83      0.82        23\n",
      "\n"
     ]
    }
   ],
   "source": [
    "print(metrics.classification_report(y_test, logpred))"
   ]
  },
  {
   "cell_type": "code",
   "execution_count": 23,
   "id": "45ba5b71",
   "metadata": {},
   "outputs": [
    {
     "data": {
      "text/html": [
       "<style>#sk-container-id-2 {color: black;background-color: white;}#sk-container-id-2 pre{padding: 0;}#sk-container-id-2 div.sk-toggleable {background-color: white;}#sk-container-id-2 label.sk-toggleable__label {cursor: pointer;display: block;width: 100%;margin-bottom: 0;padding: 0.3em;box-sizing: border-box;text-align: center;}#sk-container-id-2 label.sk-toggleable__label-arrow:before {content: \"▸\";float: left;margin-right: 0.25em;color: #696969;}#sk-container-id-2 label.sk-toggleable__label-arrow:hover:before {color: black;}#sk-container-id-2 div.sk-estimator:hover label.sk-toggleable__label-arrow:before {color: black;}#sk-container-id-2 div.sk-toggleable__content {max-height: 0;max-width: 0;overflow: hidden;text-align: left;background-color: #f0f8ff;}#sk-container-id-2 div.sk-toggleable__content pre {margin: 0.2em;color: black;border-radius: 0.25em;background-color: #f0f8ff;}#sk-container-id-2 input.sk-toggleable__control:checked~div.sk-toggleable__content {max-height: 200px;max-width: 100%;overflow: auto;}#sk-container-id-2 input.sk-toggleable__control:checked~label.sk-toggleable__label-arrow:before {content: \"▾\";}#sk-container-id-2 div.sk-estimator input.sk-toggleable__control:checked~label.sk-toggleable__label {background-color: #d4ebff;}#sk-container-id-2 div.sk-label input.sk-toggleable__control:checked~label.sk-toggleable__label {background-color: #d4ebff;}#sk-container-id-2 input.sk-hidden--visually {border: 0;clip: rect(1px 1px 1px 1px);clip: rect(1px, 1px, 1px, 1px);height: 1px;margin: -1px;overflow: hidden;padding: 0;position: absolute;width: 1px;}#sk-container-id-2 div.sk-estimator {font-family: monospace;background-color: #f0f8ff;border: 1px dotted black;border-radius: 0.25em;box-sizing: border-box;margin-bottom: 0.5em;}#sk-container-id-2 div.sk-estimator:hover {background-color: #d4ebff;}#sk-container-id-2 div.sk-parallel-item::after {content: \"\";width: 100%;border-bottom: 1px solid gray;flex-grow: 1;}#sk-container-id-2 div.sk-label:hover label.sk-toggleable__label {background-color: #d4ebff;}#sk-container-id-2 div.sk-serial::before {content: \"\";position: absolute;border-left: 1px solid gray;box-sizing: border-box;top: 0;bottom: 0;left: 50%;z-index: 0;}#sk-container-id-2 div.sk-serial {display: flex;flex-direction: column;align-items: center;background-color: white;padding-right: 0.2em;padding-left: 0.2em;position: relative;}#sk-container-id-2 div.sk-item {position: relative;z-index: 1;}#sk-container-id-2 div.sk-parallel {display: flex;align-items: stretch;justify-content: center;background-color: white;position: relative;}#sk-container-id-2 div.sk-item::before, #sk-container-id-2 div.sk-parallel-item::before {content: \"\";position: absolute;border-left: 1px solid gray;box-sizing: border-box;top: 0;bottom: 0;left: 50%;z-index: -1;}#sk-container-id-2 div.sk-parallel-item {display: flex;flex-direction: column;z-index: 1;position: relative;background-color: white;}#sk-container-id-2 div.sk-parallel-item:first-child::after {align-self: flex-end;width: 50%;}#sk-container-id-2 div.sk-parallel-item:last-child::after {align-self: flex-start;width: 50%;}#sk-container-id-2 div.sk-parallel-item:only-child::after {width: 0;}#sk-container-id-2 div.sk-dashed-wrapped {border: 1px dashed gray;margin: 0 0.4em 0.5em 0.4em;box-sizing: border-box;padding-bottom: 0.4em;background-color: white;}#sk-container-id-2 div.sk-label label {font-family: monospace;font-weight: bold;display: inline-block;line-height: 1.2em;}#sk-container-id-2 div.sk-label-container {text-align: center;}#sk-container-id-2 div.sk-container {/* jupyter's `normalize.less` sets `[hidden] { display: none; }` but bootstrap.min.css set `[hidden] { display: none !important; }` so we also need the `!important` here to be able to override the default hidden behavior on the sphinx rendered scikit-learn.org. See: https://github.com/scikit-learn/scikit-learn/issues/21755 */display: inline-block !important;position: relative;}#sk-container-id-2 div.sk-text-repr-fallback {display: none;}</style><div id=\"sk-container-id-2\" class=\"sk-top-container\"><div class=\"sk-text-repr-fallback\"><pre>DecisionTreeClassifier(random_state=15)</pre><b>In a Jupyter environment, please rerun this cell to show the HTML representation or trust the notebook. <br />On GitHub, the HTML representation is unable to render, please try loading this page with nbviewer.org.</b></div><div class=\"sk-container\" hidden><div class=\"sk-item\"><div class=\"sk-estimator sk-toggleable\"><input class=\"sk-toggleable__control sk-hidden--visually\" id=\"sk-estimator-id-2\" type=\"checkbox\" checked><label for=\"sk-estimator-id-2\" class=\"sk-toggleable__label sk-toggleable__label-arrow\">DecisionTreeClassifier</label><div class=\"sk-toggleable__content\"><pre>DecisionTreeClassifier(random_state=15)</pre></div></div></div></div></div>"
      ],
      "text/plain": [
       "DecisionTreeClassifier(random_state=15)"
      ]
     },
     "execution_count": 23,
     "metadata": {},
     "output_type": "execute_result"
    }
   ],
   "source": [
    "from sklearn.tree import DecisionTreeClassifier\n",
    "\n",
    "tree_class = DecisionTreeClassifier(random_state = 15)\n",
    "\n",
    "tree_class.fit(X_train, y_train)"
   ]
  },
  {
   "cell_type": "code",
   "execution_count": 24,
   "id": "7dcf1564",
   "metadata": {},
   "outputs": [
    {
     "name": "stdout",
     "output_type": "stream",
     "text": [
      "[[ 7  3]\n",
      " [ 3 10]]\n"
     ]
    }
   ],
   "source": [
    "treepred = tree_class.predict(X_test)\n",
    "\n",
    "treecm = metrics.confusion_matrix(y_test, treepred)\n",
    "print(treecm)"
   ]
  },
  {
   "cell_type": "code",
   "execution_count": 25,
   "id": "bef1eea6",
   "metadata": {},
   "outputs": [
    {
     "name": "stdout",
     "output_type": "stream",
     "text": [
      "              precision    recall  f1-score   support\n",
      "\n",
      "           0       0.70      0.70      0.70        10\n",
      "           1       0.77      0.77      0.77        13\n",
      "\n",
      "    accuracy                           0.74        23\n",
      "   macro avg       0.73      0.73      0.73        23\n",
      "weighted avg       0.74      0.74      0.74        23\n",
      "\n"
     ]
    }
   ],
   "source": [
    "print(metrics.classification_report(y_test, treepred))"
   ]
  },
  {
   "cell_type": "code",
   "execution_count": 26,
   "id": "ebc091bc",
   "metadata": {},
   "outputs": [
    {
     "data": {
      "text/html": [
       "<style>#sk-container-id-3 {color: black;background-color: white;}#sk-container-id-3 pre{padding: 0;}#sk-container-id-3 div.sk-toggleable {background-color: white;}#sk-container-id-3 label.sk-toggleable__label {cursor: pointer;display: block;width: 100%;margin-bottom: 0;padding: 0.3em;box-sizing: border-box;text-align: center;}#sk-container-id-3 label.sk-toggleable__label-arrow:before {content: \"▸\";float: left;margin-right: 0.25em;color: #696969;}#sk-container-id-3 label.sk-toggleable__label-arrow:hover:before {color: black;}#sk-container-id-3 div.sk-estimator:hover label.sk-toggleable__label-arrow:before {color: black;}#sk-container-id-3 div.sk-toggleable__content {max-height: 0;max-width: 0;overflow: hidden;text-align: left;background-color: #f0f8ff;}#sk-container-id-3 div.sk-toggleable__content pre {margin: 0.2em;color: black;border-radius: 0.25em;background-color: #f0f8ff;}#sk-container-id-3 input.sk-toggleable__control:checked~div.sk-toggleable__content {max-height: 200px;max-width: 100%;overflow: auto;}#sk-container-id-3 input.sk-toggleable__control:checked~label.sk-toggleable__label-arrow:before {content: \"▾\";}#sk-container-id-3 div.sk-estimator input.sk-toggleable__control:checked~label.sk-toggleable__label {background-color: #d4ebff;}#sk-container-id-3 div.sk-label input.sk-toggleable__control:checked~label.sk-toggleable__label {background-color: #d4ebff;}#sk-container-id-3 input.sk-hidden--visually {border: 0;clip: rect(1px 1px 1px 1px);clip: rect(1px, 1px, 1px, 1px);height: 1px;margin: -1px;overflow: hidden;padding: 0;position: absolute;width: 1px;}#sk-container-id-3 div.sk-estimator {font-family: monospace;background-color: #f0f8ff;border: 1px dotted black;border-radius: 0.25em;box-sizing: border-box;margin-bottom: 0.5em;}#sk-container-id-3 div.sk-estimator:hover {background-color: #d4ebff;}#sk-container-id-3 div.sk-parallel-item::after {content: \"\";width: 100%;border-bottom: 1px solid gray;flex-grow: 1;}#sk-container-id-3 div.sk-label:hover label.sk-toggleable__label {background-color: #d4ebff;}#sk-container-id-3 div.sk-serial::before {content: \"\";position: absolute;border-left: 1px solid gray;box-sizing: border-box;top: 0;bottom: 0;left: 50%;z-index: 0;}#sk-container-id-3 div.sk-serial {display: flex;flex-direction: column;align-items: center;background-color: white;padding-right: 0.2em;padding-left: 0.2em;position: relative;}#sk-container-id-3 div.sk-item {position: relative;z-index: 1;}#sk-container-id-3 div.sk-parallel {display: flex;align-items: stretch;justify-content: center;background-color: white;position: relative;}#sk-container-id-3 div.sk-item::before, #sk-container-id-3 div.sk-parallel-item::before {content: \"\";position: absolute;border-left: 1px solid gray;box-sizing: border-box;top: 0;bottom: 0;left: 50%;z-index: -1;}#sk-container-id-3 div.sk-parallel-item {display: flex;flex-direction: column;z-index: 1;position: relative;background-color: white;}#sk-container-id-3 div.sk-parallel-item:first-child::after {align-self: flex-end;width: 50%;}#sk-container-id-3 div.sk-parallel-item:last-child::after {align-self: flex-start;width: 50%;}#sk-container-id-3 div.sk-parallel-item:only-child::after {width: 0;}#sk-container-id-3 div.sk-dashed-wrapped {border: 1px dashed gray;margin: 0 0.4em 0.5em 0.4em;box-sizing: border-box;padding-bottom: 0.4em;background-color: white;}#sk-container-id-3 div.sk-label label {font-family: monospace;font-weight: bold;display: inline-block;line-height: 1.2em;}#sk-container-id-3 div.sk-label-container {text-align: center;}#sk-container-id-3 div.sk-container {/* jupyter's `normalize.less` sets `[hidden] { display: none; }` but bootstrap.min.css set `[hidden] { display: none !important; }` so we also need the `!important` here to be able to override the default hidden behavior on the sphinx rendered scikit-learn.org. See: https://github.com/scikit-learn/scikit-learn/issues/21755 */display: inline-block !important;position: relative;}#sk-container-id-3 div.sk-text-repr-fallback {display: none;}</style><div id=\"sk-container-id-3\" class=\"sk-top-container\"><div class=\"sk-text-repr-fallback\"><pre>RandomForestClassifier(n_estimators=200, random_state=16)</pre><b>In a Jupyter environment, please rerun this cell to show the HTML representation or trust the notebook. <br />On GitHub, the HTML representation is unable to render, please try loading this page with nbviewer.org.</b></div><div class=\"sk-container\" hidden><div class=\"sk-item\"><div class=\"sk-estimator sk-toggleable\"><input class=\"sk-toggleable__control sk-hidden--visually\" id=\"sk-estimator-id-3\" type=\"checkbox\" checked><label for=\"sk-estimator-id-3\" class=\"sk-toggleable__label sk-toggleable__label-arrow\">RandomForestClassifier</label><div class=\"sk-toggleable__content\"><pre>RandomForestClassifier(n_estimators=200, random_state=16)</pre></div></div></div></div></div>"
      ],
      "text/plain": [
       "RandomForestClassifier(n_estimators=200, random_state=16)"
      ]
     },
     "execution_count": 26,
     "metadata": {},
     "output_type": "execute_result"
    }
   ],
   "source": [
    "from sklearn.ensemble import RandomForestClassifier\n",
    "\n",
    "forest_class = RandomForestClassifier(n_estimators = 200, random_state = 16)\n",
    "\n",
    "forest_class.fit(X_train, y_train)"
   ]
  },
  {
   "cell_type": "code",
   "execution_count": 27,
   "id": "40f5d3a5",
   "metadata": {},
   "outputs": [
    {
     "name": "stdout",
     "output_type": "stream",
     "text": [
      "[[ 7  3]\n",
      " [ 0 13]]\n"
     ]
    }
   ],
   "source": [
    "forestpred = forest_class.predict(X_test)\n",
    "\n",
    "forestcm = metrics.confusion_matrix(y_test, forestpred)\n",
    "print(forestcm)"
   ]
  },
  {
   "cell_type": "code",
   "execution_count": 28,
   "id": "de150a63",
   "metadata": {},
   "outputs": [
    {
     "name": "stdout",
     "output_type": "stream",
     "text": [
      "              precision    recall  f1-score   support\n",
      "\n",
      "           0       1.00      0.70      0.82        10\n",
      "           1       0.81      1.00      0.90        13\n",
      "\n",
      "    accuracy                           0.87        23\n",
      "   macro avg       0.91      0.85      0.86        23\n",
      "weighted avg       0.89      0.87      0.86        23\n",
      "\n"
     ]
    }
   ],
   "source": [
    "print(metrics.classification_report(y_test, forestpred))"
   ]
  },
  {
   "cell_type": "code",
   "execution_count": 80,
   "id": "78396f47",
   "metadata": {},
   "outputs": [],
   "source": [
    "def flatraster(file, y1, x1, y2, x2):\n",
    "    for filename in glob.glob(os.path.join(path, file)):\n",
    "        with rasterio.open(os.path.join(os.getcwd(), filename)) as f: \n",
    "            flatrasters[str(filename.split('\\\\')[-1][:-4])] = f.read(window = ((y1,y2),(x1,x2))).flatten()"
   ]
  },
  {
   "cell_type": "code",
   "execution_count": 81,
   "id": "77ecb3f0",
   "metadata": {},
   "outputs": [],
   "source": [
    "with rasterio.open('C:/Users/parke/GISLampreyAnalysis/Data/Predictions.tif') as src:\n",
    "    ras_meta = src.profile\n",
    "dst = rasterio.open('C:/Users/parke/GISLampreyAnalysis/Data/Predictions.tif','w', **ras_meta)"
   ]
  },
  {
   "cell_type": "code",
   "execution_count": 82,
   "id": "ba76a367",
   "metadata": {},
   "outputs": [],
   "source": [
    "for y1 in [0, 24979]:\n",
    "    y2 = y1+24979\n",
    "    for x1 in range(0,25146,1397):\n",
    "        x2 = x1+1397\n",
    "        flatrasters = pd.DataFrame()\n",
    "        flatraster('Elevation.tif', y1, x1, y2, x2)\n",
    "        flatraster('Slope.tif', y1, x1, y2, x2)\n",
    "        flatraster('Aspect.tif', y1, x1, y2, x2)\n",
    "        flatraster('Hillshade.tif', y1, x1, y2, x2)\n",
    "        flatraster('HDStreamDensity.tif', y1, x1, y2, x2)\n",
    "        flatraster('ForestTypeReclass_Project.tif', y1, x1, y2, x2)\n",
    "        flatraster('CanopyCover_Projecte_1.tif', y1, x1, y2, x2)\n",
    "        forestpredictions = forest_class.predict_proba(flatrasters)[:,1]\n",
    "        shapedpredictions = np.reshape(forestpredictions, (-1,1397))\n",
    "        dst.write(shapedpredictions, window = ((y1,y2),(x1,x2)), indexes=1)\n",
    "dst.close()"
   ]
  }
 ],
 "metadata": {
  "kernelspec": {
   "display_name": "Python 3 (ipykernel)",
   "language": "python",
   "name": "python3"
  },
  "language_info": {
   "codemirror_mode": {
    "name": "ipython",
    "version": 3
   },
   "file_extension": ".py",
   "mimetype": "text/x-python",
   "name": "python",
   "nbconvert_exporter": "python",
   "pygments_lexer": "ipython3",
   "version": "3.10.8"
  }
 },
 "nbformat": 4,
 "nbformat_minor": 5
}
